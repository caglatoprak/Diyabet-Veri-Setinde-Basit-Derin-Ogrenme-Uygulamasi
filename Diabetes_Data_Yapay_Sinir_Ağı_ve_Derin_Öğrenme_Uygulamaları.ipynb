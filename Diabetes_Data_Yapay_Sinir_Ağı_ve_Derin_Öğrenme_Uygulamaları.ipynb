{
  "nbformat": 4,
  "nbformat_minor": 0,
  "metadata": {
    "colab": {
      "provenance": []
    },
    "kernelspec": {
      "name": "python3",
      "display_name": "Python 3"
    },
    "language_info": {
      "name": "python"
    }
  },
  "cells": [
    {
      "cell_type": "markdown",
      "source": [
        "# **Diyabet Veri Setini Tanıyalım**\n"
      ],
      "metadata": {
        "id": "pLcWGq7LTJSz"
      }
    },
    {
      "cell_type": "markdown",
      "source": [
        "Bu veri seti, 10 farklı özelliği olan 442 hasta verisi içerir. Veri setindeki özellikler, hastaların yaş, cinsiyet, BMI (vücut kitle indeksi), kan basıncı ve 6 farklı kan değeri (serum kolesterol, serum LDL, serum HDL, serum trigliserit, insülin seviyesi, ve ortalama kan şekeri) gibi faktörlere dayanmaktadır. "
      ],
      "metadata": {
        "id": "8KF96ql0TQaO"
      }
    },
    {
      "cell_type": "markdown",
      "source": [
        "# **Amaç**"
      ],
      "metadata": {
        "id": "bJ79gwR2Ue9z"
      }
    },
    {
      "cell_type": "markdown",
      "source": [
        "Amacımız, bu veri seti üzerinde bir yapay sinir ağı ve derin öğrenme uygulaması yapmak olacaktır."
      ],
      "metadata": {
        "id": "ef0AU5y-UAvW"
      }
    },
    {
      "cell_type": "markdown",
      "source": [
        "**Öncelikle, gerekli kütüphaneleri import ediyoruz.**"
      ],
      "metadata": {
        "id": "_80Rcd2AUlBY"
      }
    },
    {
      "cell_type": "code",
      "source": [
        "import numpy as np\n",
        "import pandas as pd \n",
        "from numpy import loadtxt\n",
        "import tensorflow as tf\n",
        "from keras.models import Sequential\n",
        "from keras.layers import Dense\n",
        "from keras.utils import np_utils\n",
        "import keras.utils.np_utils\n",
        "from sklearn.preprocessing import StandardScaler\n",
        "from sklearn.datasets import load_diabetes"
      ],
      "metadata": {
        "id": "1I4bxqswUATC"
      },
      "execution_count": null,
      "outputs": []
    },
    {
      "cell_type": "markdown",
      "source": [
        "**Diyabet veri setini yüklüyoruz.**"
      ],
      "metadata": {
        "id": "vCRylHrWUlEn"
      }
    },
    {
      "cell_type": "code",
      "execution_count": null,
      "metadata": {
        "id": "6VG6kV6MSwFo"
      },
      "outputs": [],
      "source": [
        "diabetes = load_diabetes()\n",
        "\n"
      ]
    },
    {
      "cell_type": "code",
      "source": [
        "X = diabetes.data\n",
        "y = diabetes.target\n"
      ],
      "metadata": {
        "id": "GuljGxWPj37_"
      },
      "execution_count": null,
      "outputs": []
    },
    {
      "cell_type": "markdown",
      "source": [
        "**Veri Setini eğitim ve test setlerine ayırıyoruz.**"
      ],
      "metadata": {
        "id": "TluIHBAeUlIH"
      }
    },
    {
      "cell_type": "code",
      "source": [
        "from sklearn.model_selection import train_test_split\n",
        "\n",
        "X_train, X_test, y_train, y_test = train_test_split(X, y, test_size=0.2, random_state=42)"
      ],
      "metadata": {
        "id": "hDvvnhsLXXGk"
      },
      "execution_count": null,
      "outputs": []
    },
    {
      "cell_type": "markdown",
      "source": [
        "**Verileri normalleştiriyoruz.**"
      ],
      "metadata": {
        "id": "5j4MEsCAYAt1"
      }
    },
    {
      "cell_type": "code",
      "source": [
        "scaler = StandardScaler()\n",
        "X_train = scaler.fit_transform(X_train)\n",
        "X_test = scaler.transform(X_test)\n"
      ],
      "metadata": {
        "id": "DuB5OoKJYHVw"
      },
      "execution_count": null,
      "outputs": []
    },
    {
      "cell_type": "code",
      "source": [
        "y_mean = np.mean(y_train)\n",
        "y_train_binary = np.where(y_train > y_mean, 1, 0)\n"
      ],
      "metadata": {
        "id": "-pPSibvkkTt4"
      },
      "execution_count": null,
      "outputs": []
    },
    {
      "cell_type": "markdown",
      "source": [
        "**Artık modelimizi oluşturabiliriz.**\n",
        "\n",
        "\n",
        "\n"
      ],
      "metadata": {
        "id": "InWd-7VgYJCp"
      }
    },
    {
      "cell_type": "code",
      "source": [
        "from keras.layers import Dropout\n",
        "\n",
        "model = Sequential()\n",
        "model.add(Dense(64, activation='relu', input_dim=10))\n",
        "model.add(Dropout(0.2))\n",
        "model.add(Dense(32, activation='relu'))\n",
        "model.add(Dropout(0.2))\n",
        "model.add(Dense(16, activation='relu'))\n",
        "model.add(Dropout(0.2))\n",
        "model.add(Dense(1, activation='sigmoid'))\n",
        "model.compile(loss='binary_crossentropy', optimizer='adam', metrics=['accuracy'])"
      ],
      "metadata": {
        "id": "4Z3VtP2gkZ26"
      },
      "execution_count": null,
      "outputs": []
    },
    {
      "cell_type": "markdown",
      "source": [
        "**Modelimizi eğitiyoruz.**"
      ],
      "metadata": {
        "id": "1JDFGD0-KqLu"
      }
    },
    {
      "cell_type": "code",
      "source": [
        "history = model.fit(X_train, y_train_binary, validation_split = 0.33, epochs =150, batch_size =10)"
      ],
      "metadata": {
        "colab": {
          "base_uri": "https://localhost:8080/"
        },
        "id": "Liz3mYuNkeHu",
        "outputId": "37ee0510-2727-4fa0-8403-a2da8709166e"
      },
      "execution_count": null,
      "outputs": [
        {
          "output_type": "stream",
          "name": "stdout",
          "text": [
            "Epoch 1/150\n",
            "24/24 [==============================] - 1s 9ms/step - loss: 0.7071 - accuracy: 0.5466 - val_loss: 0.6710 - val_accuracy: 0.5299\n",
            "Epoch 2/150\n",
            "24/24 [==============================] - 0s 3ms/step - loss: 0.6103 - accuracy: 0.6695 - val_loss: 0.6158 - val_accuracy: 0.6154\n",
            "Epoch 3/150\n",
            "24/24 [==============================] - 0s 3ms/step - loss: 0.5678 - accuracy: 0.7288 - val_loss: 0.5776 - val_accuracy: 0.6752\n",
            "Epoch 4/150\n",
            "24/24 [==============================] - 0s 3ms/step - loss: 0.5619 - accuracy: 0.7076 - val_loss: 0.5456 - val_accuracy: 0.7265\n",
            "Epoch 5/150\n",
            "24/24 [==============================] - 0s 2ms/step - loss: 0.4948 - accuracy: 0.7797 - val_loss: 0.5378 - val_accuracy: 0.7350\n",
            "Epoch 6/150\n",
            "24/24 [==============================] - 0s 3ms/step - loss: 0.4883 - accuracy: 0.7797 - val_loss: 0.5358 - val_accuracy: 0.7265\n",
            "Epoch 7/150\n",
            "24/24 [==============================] - 0s 3ms/step - loss: 0.5114 - accuracy: 0.7415 - val_loss: 0.5298 - val_accuracy: 0.7692\n",
            "Epoch 8/150\n",
            "24/24 [==============================] - 0s 3ms/step - loss: 0.4999 - accuracy: 0.7373 - val_loss: 0.5253 - val_accuracy: 0.7692\n",
            "Epoch 9/150\n",
            "24/24 [==============================] - 0s 3ms/step - loss: 0.4895 - accuracy: 0.7712 - val_loss: 0.5316 - val_accuracy: 0.7521\n",
            "Epoch 10/150\n",
            "24/24 [==============================] - 0s 3ms/step - loss: 0.4757 - accuracy: 0.7754 - val_loss: 0.5367 - val_accuracy: 0.7521\n",
            "Epoch 11/150\n",
            "24/24 [==============================] - 0s 3ms/step - loss: 0.4660 - accuracy: 0.7627 - val_loss: 0.5334 - val_accuracy: 0.7607\n",
            "Epoch 12/150\n",
            "24/24 [==============================] - 0s 3ms/step - loss: 0.4803 - accuracy: 0.7542 - val_loss: 0.5252 - val_accuracy: 0.7607\n",
            "Epoch 13/150\n",
            "24/24 [==============================] - 0s 3ms/step - loss: 0.4436 - accuracy: 0.7797 - val_loss: 0.5249 - val_accuracy: 0.7521\n",
            "Epoch 14/150\n",
            "24/24 [==============================] - 0s 3ms/step - loss: 0.4596 - accuracy: 0.7881 - val_loss: 0.5234 - val_accuracy: 0.7778\n",
            "Epoch 15/150\n",
            "24/24 [==============================] - 0s 3ms/step - loss: 0.4387 - accuracy: 0.7500 - val_loss: 0.5255 - val_accuracy: 0.7692\n",
            "Epoch 16/150\n",
            "24/24 [==============================] - 0s 3ms/step - loss: 0.4680 - accuracy: 0.7712 - val_loss: 0.5283 - val_accuracy: 0.7778\n",
            "Epoch 17/150\n",
            "24/24 [==============================] - 0s 3ms/step - loss: 0.4567 - accuracy: 0.7881 - val_loss: 0.5368 - val_accuracy: 0.7607\n",
            "Epoch 18/150\n",
            "24/24 [==============================] - 0s 3ms/step - loss: 0.4531 - accuracy: 0.7669 - val_loss: 0.5428 - val_accuracy: 0.7436\n",
            "Epoch 19/150\n",
            "24/24 [==============================] - 0s 3ms/step - loss: 0.4325 - accuracy: 0.7924 - val_loss: 0.5339 - val_accuracy: 0.7778\n",
            "Epoch 20/150\n",
            "24/24 [==============================] - 0s 3ms/step - loss: 0.4264 - accuracy: 0.7881 - val_loss: 0.5438 - val_accuracy: 0.7607\n",
            "Epoch 21/150\n",
            "24/24 [==============================] - 0s 2ms/step - loss: 0.4376 - accuracy: 0.7839 - val_loss: 0.5519 - val_accuracy: 0.7521\n",
            "Epoch 22/150\n",
            "24/24 [==============================] - 0s 3ms/step - loss: 0.4481 - accuracy: 0.7754 - val_loss: 0.5459 - val_accuracy: 0.7521\n",
            "Epoch 23/150\n",
            "24/24 [==============================] - 0s 3ms/step - loss: 0.4619 - accuracy: 0.7712 - val_loss: 0.5429 - val_accuracy: 0.7436\n",
            "Epoch 24/150\n",
            "24/24 [==============================] - 0s 3ms/step - loss: 0.4298 - accuracy: 0.7669 - val_loss: 0.5447 - val_accuracy: 0.7436\n",
            "Epoch 25/150\n",
            "24/24 [==============================] - 0s 3ms/step - loss: 0.4124 - accuracy: 0.8008 - val_loss: 0.5515 - val_accuracy: 0.7350\n",
            "Epoch 26/150\n",
            "24/24 [==============================] - 0s 3ms/step - loss: 0.4284 - accuracy: 0.7881 - val_loss: 0.5642 - val_accuracy: 0.7436\n",
            "Epoch 27/150\n",
            "24/24 [==============================] - 0s 3ms/step - loss: 0.4112 - accuracy: 0.7966 - val_loss: 0.5656 - val_accuracy: 0.7521\n",
            "Epoch 28/150\n",
            "24/24 [==============================] - 0s 3ms/step - loss: 0.4246 - accuracy: 0.7797 - val_loss: 0.5601 - val_accuracy: 0.7607\n",
            "Epoch 29/150\n",
            "24/24 [==============================] - 0s 2ms/step - loss: 0.3898 - accuracy: 0.8008 - val_loss: 0.5826 - val_accuracy: 0.7436\n",
            "Epoch 30/150\n",
            "24/24 [==============================] - 0s 3ms/step - loss: 0.4141 - accuracy: 0.7839 - val_loss: 0.5818 - val_accuracy: 0.7436\n",
            "Epoch 31/150\n",
            "24/24 [==============================] - 0s 2ms/step - loss: 0.4104 - accuracy: 0.7966 - val_loss: 0.5822 - val_accuracy: 0.7436\n",
            "Epoch 32/150\n",
            "24/24 [==============================] - 0s 3ms/step - loss: 0.4090 - accuracy: 0.7712 - val_loss: 0.5741 - val_accuracy: 0.7521\n",
            "Epoch 33/150\n",
            "24/24 [==============================] - 0s 3ms/step - loss: 0.4317 - accuracy: 0.7754 - val_loss: 0.5689 - val_accuracy: 0.7436\n",
            "Epoch 34/150\n",
            "24/24 [==============================] - 0s 2ms/step - loss: 0.4142 - accuracy: 0.8093 - val_loss: 0.5792 - val_accuracy: 0.7436\n",
            "Epoch 35/150\n",
            "24/24 [==============================] - 0s 2ms/step - loss: 0.4054 - accuracy: 0.8093 - val_loss: 0.5751 - val_accuracy: 0.7436\n",
            "Epoch 36/150\n",
            "24/24 [==============================] - 0s 3ms/step - loss: 0.3983 - accuracy: 0.7881 - val_loss: 0.5695 - val_accuracy: 0.7436\n",
            "Epoch 37/150\n",
            "24/24 [==============================] - 0s 3ms/step - loss: 0.3969 - accuracy: 0.7924 - val_loss: 0.5755 - val_accuracy: 0.7436\n",
            "Epoch 38/150\n",
            "24/24 [==============================] - 0s 3ms/step - loss: 0.4175 - accuracy: 0.8051 - val_loss: 0.5767 - val_accuracy: 0.7436\n",
            "Epoch 39/150\n",
            "24/24 [==============================] - 0s 3ms/step - loss: 0.3997 - accuracy: 0.8178 - val_loss: 0.5729 - val_accuracy: 0.7436\n",
            "Epoch 40/150\n",
            "24/24 [==============================] - 0s 3ms/step - loss: 0.3772 - accuracy: 0.8347 - val_loss: 0.5785 - val_accuracy: 0.7607\n",
            "Epoch 41/150\n",
            "24/24 [==============================] - 0s 3ms/step - loss: 0.3919 - accuracy: 0.8136 - val_loss: 0.6045 - val_accuracy: 0.7436\n",
            "Epoch 42/150\n",
            "24/24 [==============================] - 0s 3ms/step - loss: 0.3959 - accuracy: 0.8136 - val_loss: 0.5897 - val_accuracy: 0.7521\n",
            "Epoch 43/150\n",
            "24/24 [==============================] - 0s 2ms/step - loss: 0.3816 - accuracy: 0.8220 - val_loss: 0.5915 - val_accuracy: 0.7350\n",
            "Epoch 44/150\n",
            "24/24 [==============================] - 0s 3ms/step - loss: 0.3866 - accuracy: 0.8178 - val_loss: 0.5913 - val_accuracy: 0.7350\n",
            "Epoch 45/150\n",
            "24/24 [==============================] - 0s 3ms/step - loss: 0.3685 - accuracy: 0.7924 - val_loss: 0.5824 - val_accuracy: 0.7436\n",
            "Epoch 46/150\n",
            "24/24 [==============================] - 0s 3ms/step - loss: 0.3705 - accuracy: 0.8178 - val_loss: 0.5932 - val_accuracy: 0.7436\n",
            "Epoch 47/150\n",
            "24/24 [==============================] - 0s 3ms/step - loss: 0.3724 - accuracy: 0.8093 - val_loss: 0.6170 - val_accuracy: 0.7436\n",
            "Epoch 48/150\n",
            "24/24 [==============================] - 0s 3ms/step - loss: 0.3889 - accuracy: 0.7966 - val_loss: 0.6100 - val_accuracy: 0.7436\n",
            "Epoch 49/150\n",
            "24/24 [==============================] - 0s 3ms/step - loss: 0.3817 - accuracy: 0.8178 - val_loss: 0.6171 - val_accuracy: 0.7265\n",
            "Epoch 50/150\n",
            "24/24 [==============================] - 0s 3ms/step - loss: 0.3836 - accuracy: 0.7966 - val_loss: 0.5958 - val_accuracy: 0.7350\n",
            "Epoch 51/150\n",
            "24/24 [==============================] - 0s 3ms/step - loss: 0.3712 - accuracy: 0.7924 - val_loss: 0.6018 - val_accuracy: 0.7350\n",
            "Epoch 52/150\n",
            "24/24 [==============================] - 0s 3ms/step - loss: 0.3609 - accuracy: 0.8220 - val_loss: 0.6196 - val_accuracy: 0.7265\n",
            "Epoch 53/150\n",
            "24/24 [==============================] - 0s 2ms/step - loss: 0.3786 - accuracy: 0.8008 - val_loss: 0.6159 - val_accuracy: 0.7436\n",
            "Epoch 54/150\n",
            "24/24 [==============================] - 0s 2ms/step - loss: 0.3798 - accuracy: 0.8093 - val_loss: 0.6086 - val_accuracy: 0.7350\n",
            "Epoch 55/150\n",
            "24/24 [==============================] - 0s 3ms/step - loss: 0.3458 - accuracy: 0.8220 - val_loss: 0.6180 - val_accuracy: 0.7265\n",
            "Epoch 56/150\n",
            "24/24 [==============================] - 0s 3ms/step - loss: 0.3686 - accuracy: 0.8178 - val_loss: 0.6257 - val_accuracy: 0.7179\n",
            "Epoch 57/150\n",
            "24/24 [==============================] - 0s 5ms/step - loss: 0.3440 - accuracy: 0.8220 - val_loss: 0.6245 - val_accuracy: 0.7436\n",
            "Epoch 58/150\n",
            "24/24 [==============================] - 0s 4ms/step - loss: 0.3719 - accuracy: 0.8093 - val_loss: 0.6201 - val_accuracy: 0.7265\n",
            "Epoch 59/150\n",
            "24/24 [==============================] - 0s 4ms/step - loss: 0.3597 - accuracy: 0.8220 - val_loss: 0.6260 - val_accuracy: 0.7265\n",
            "Epoch 60/150\n",
            "24/24 [==============================] - 0s 3ms/step - loss: 0.3511 - accuracy: 0.8136 - val_loss: 0.6259 - val_accuracy: 0.7436\n",
            "Epoch 61/150\n",
            "24/24 [==============================] - 0s 3ms/step - loss: 0.3610 - accuracy: 0.8051 - val_loss: 0.6110 - val_accuracy: 0.7265\n",
            "Epoch 62/150\n",
            "24/24 [==============================] - 0s 3ms/step - loss: 0.3382 - accuracy: 0.8051 - val_loss: 0.6237 - val_accuracy: 0.7350\n",
            "Epoch 63/150\n",
            "24/24 [==============================] - 0s 4ms/step - loss: 0.3111 - accuracy: 0.8559 - val_loss: 0.6532 - val_accuracy: 0.7350\n",
            "Epoch 64/150\n",
            "24/24 [==============================] - 0s 3ms/step - loss: 0.3464 - accuracy: 0.8432 - val_loss: 0.6511 - val_accuracy: 0.7265\n",
            "Epoch 65/150\n",
            "24/24 [==============================] - 0s 4ms/step - loss: 0.3460 - accuracy: 0.8220 - val_loss: 0.6415 - val_accuracy: 0.7350\n",
            "Epoch 66/150\n",
            "24/24 [==============================] - 0s 3ms/step - loss: 0.3545 - accuracy: 0.8136 - val_loss: 0.6474 - val_accuracy: 0.7265\n",
            "Epoch 67/150\n",
            "24/24 [==============================] - 0s 4ms/step - loss: 0.3271 - accuracy: 0.8305 - val_loss: 0.6460 - val_accuracy: 0.7094\n",
            "Epoch 68/150\n",
            "24/24 [==============================] - 0s 3ms/step - loss: 0.3616 - accuracy: 0.8347 - val_loss: 0.6480 - val_accuracy: 0.7350\n",
            "Epoch 69/150\n",
            "24/24 [==============================] - 0s 4ms/step - loss: 0.3277 - accuracy: 0.8305 - val_loss: 0.6735 - val_accuracy: 0.7265\n",
            "Epoch 70/150\n",
            "24/24 [==============================] - 0s 4ms/step - loss: 0.3378 - accuracy: 0.8178 - val_loss: 0.6690 - val_accuracy: 0.7265\n",
            "Epoch 71/150\n",
            "24/24 [==============================] - 0s 4ms/step - loss: 0.3258 - accuracy: 0.8390 - val_loss: 0.6735 - val_accuracy: 0.7350\n",
            "Epoch 72/150\n",
            "24/24 [==============================] - 0s 4ms/step - loss: 0.3255 - accuracy: 0.8347 - val_loss: 0.6779 - val_accuracy: 0.7265\n",
            "Epoch 73/150\n",
            "24/24 [==============================] - 0s 3ms/step - loss: 0.3254 - accuracy: 0.8305 - val_loss: 0.6766 - val_accuracy: 0.7179\n",
            "Epoch 74/150\n",
            "24/24 [==============================] - 0s 4ms/step - loss: 0.3234 - accuracy: 0.8517 - val_loss: 0.6804 - val_accuracy: 0.7265\n",
            "Epoch 75/150\n",
            "24/24 [==============================] - 0s 4ms/step - loss: 0.3274 - accuracy: 0.8390 - val_loss: 0.6606 - val_accuracy: 0.7265\n",
            "Epoch 76/150\n",
            "24/24 [==============================] - 0s 3ms/step - loss: 0.3275 - accuracy: 0.8347 - val_loss: 0.6700 - val_accuracy: 0.7350\n",
            "Epoch 77/150\n",
            "24/24 [==============================] - 0s 3ms/step - loss: 0.3207 - accuracy: 0.8475 - val_loss: 0.6830 - val_accuracy: 0.7265\n",
            "Epoch 78/150\n",
            "24/24 [==============================] - 0s 3ms/step - loss: 0.3089 - accuracy: 0.8517 - val_loss: 0.6885 - val_accuracy: 0.7265\n",
            "Epoch 79/150\n",
            "24/24 [==============================] - 0s 3ms/step - loss: 0.3473 - accuracy: 0.8136 - val_loss: 0.6862 - val_accuracy: 0.7009\n",
            "Epoch 80/150\n",
            "24/24 [==============================] - 0s 3ms/step - loss: 0.3021 - accuracy: 0.8475 - val_loss: 0.6886 - val_accuracy: 0.7009\n",
            "Epoch 81/150\n",
            "24/24 [==============================] - 0s 3ms/step - loss: 0.2867 - accuracy: 0.8390 - val_loss: 0.7216 - val_accuracy: 0.6923\n",
            "Epoch 82/150\n",
            "24/24 [==============================] - 0s 3ms/step - loss: 0.2815 - accuracy: 0.8390 - val_loss: 0.7292 - val_accuracy: 0.7094\n",
            "Epoch 83/150\n",
            "24/24 [==============================] - 0s 3ms/step - loss: 0.2875 - accuracy: 0.8475 - val_loss: 0.7440 - val_accuracy: 0.7179\n",
            "Epoch 84/150\n",
            "24/24 [==============================] - 0s 3ms/step - loss: 0.3044 - accuracy: 0.8475 - val_loss: 0.7293 - val_accuracy: 0.7265\n",
            "Epoch 85/150\n",
            "24/24 [==============================] - 0s 3ms/step - loss: 0.3034 - accuracy: 0.8517 - val_loss: 0.7043 - val_accuracy: 0.7179\n",
            "Epoch 86/150\n",
            "24/24 [==============================] - 0s 3ms/step - loss: 0.3029 - accuracy: 0.8644 - val_loss: 0.7122 - val_accuracy: 0.6923\n",
            "Epoch 87/150\n",
            "24/24 [==============================] - 0s 3ms/step - loss: 0.3224 - accuracy: 0.8432 - val_loss: 0.7146 - val_accuracy: 0.7265\n",
            "Epoch 88/150\n",
            "24/24 [==============================] - 0s 3ms/step - loss: 0.3253 - accuracy: 0.8347 - val_loss: 0.7231 - val_accuracy: 0.7350\n",
            "Epoch 89/150\n",
            "24/24 [==============================] - 0s 3ms/step - loss: 0.3040 - accuracy: 0.8856 - val_loss: 0.7234 - val_accuracy: 0.7265\n",
            "Epoch 90/150\n",
            "24/24 [==============================] - 0s 3ms/step - loss: 0.2973 - accuracy: 0.8686 - val_loss: 0.7074 - val_accuracy: 0.7350\n",
            "Epoch 91/150\n",
            "24/24 [==============================] - 0s 3ms/step - loss: 0.2946 - accuracy: 0.8390 - val_loss: 0.7286 - val_accuracy: 0.7265\n",
            "Epoch 92/150\n",
            "24/24 [==============================] - 0s 3ms/step - loss: 0.3029 - accuracy: 0.8517 - val_loss: 0.7250 - val_accuracy: 0.7094\n",
            "Epoch 93/150\n",
            "24/24 [==============================] - 0s 3ms/step - loss: 0.2637 - accuracy: 0.8856 - val_loss: 0.7658 - val_accuracy: 0.7265\n",
            "Epoch 94/150\n",
            "24/24 [==============================] - 0s 3ms/step - loss: 0.2610 - accuracy: 0.8814 - val_loss: 0.7969 - val_accuracy: 0.7350\n",
            "Epoch 95/150\n",
            "24/24 [==============================] - 0s 3ms/step - loss: 0.3047 - accuracy: 0.8602 - val_loss: 0.7693 - val_accuracy: 0.7436\n",
            "Epoch 96/150\n",
            "24/24 [==============================] - 0s 3ms/step - loss: 0.2949 - accuracy: 0.8729 - val_loss: 0.7560 - val_accuracy: 0.7179\n",
            "Epoch 97/150\n",
            "24/24 [==============================] - 0s 3ms/step - loss: 0.3233 - accuracy: 0.8432 - val_loss: 0.7180 - val_accuracy: 0.7179\n",
            "Epoch 98/150\n",
            "24/24 [==============================] - 0s 3ms/step - loss: 0.2499 - accuracy: 0.8771 - val_loss: 0.7596 - val_accuracy: 0.7265\n",
            "Epoch 99/150\n",
            "24/24 [==============================] - 0s 3ms/step - loss: 0.2650 - accuracy: 0.8771 - val_loss: 0.7746 - val_accuracy: 0.7521\n",
            "Epoch 100/150\n",
            "24/24 [==============================] - 0s 3ms/step - loss: 0.2417 - accuracy: 0.8898 - val_loss: 0.7883 - val_accuracy: 0.7350\n",
            "Epoch 101/150\n",
            "24/24 [==============================] - 0s 3ms/step - loss: 0.2749 - accuracy: 0.8898 - val_loss: 0.7922 - val_accuracy: 0.7350\n",
            "Epoch 102/150\n",
            "24/24 [==============================] - 0s 2ms/step - loss: 0.2592 - accuracy: 0.8941 - val_loss: 0.8021 - val_accuracy: 0.7350\n",
            "Epoch 103/150\n",
            "24/24 [==============================] - 0s 3ms/step - loss: 0.2630 - accuracy: 0.8856 - val_loss: 0.8190 - val_accuracy: 0.7265\n",
            "Epoch 104/150\n",
            "24/24 [==============================] - 0s 3ms/step - loss: 0.2724 - accuracy: 0.8898 - val_loss: 0.8274 - val_accuracy: 0.6923\n",
            "Epoch 105/150\n",
            "24/24 [==============================] - 0s 3ms/step - loss: 0.2529 - accuracy: 0.8644 - val_loss: 0.8264 - val_accuracy: 0.6838\n",
            "Epoch 106/150\n",
            "24/24 [==============================] - 0s 3ms/step - loss: 0.2747 - accuracy: 0.8771 - val_loss: 0.8310 - val_accuracy: 0.7265\n",
            "Epoch 107/150\n",
            "24/24 [==============================] - 0s 3ms/step - loss: 0.2730 - accuracy: 0.8729 - val_loss: 0.8343 - val_accuracy: 0.7265\n",
            "Epoch 108/150\n",
            "24/24 [==============================] - 0s 3ms/step - loss: 0.2594 - accuracy: 0.8814 - val_loss: 0.8532 - val_accuracy: 0.7179\n",
            "Epoch 109/150\n",
            "24/24 [==============================] - 0s 3ms/step - loss: 0.2631 - accuracy: 0.8602 - val_loss: 0.8136 - val_accuracy: 0.7350\n",
            "Epoch 110/150\n",
            "24/24 [==============================] - 0s 3ms/step - loss: 0.2483 - accuracy: 0.8983 - val_loss: 0.8435 - val_accuracy: 0.7265\n",
            "Epoch 111/150\n",
            "24/24 [==============================] - 0s 3ms/step - loss: 0.2367 - accuracy: 0.8941 - val_loss: 0.8371 - val_accuracy: 0.7436\n",
            "Epoch 112/150\n",
            "24/24 [==============================] - 0s 2ms/step - loss: 0.2192 - accuracy: 0.9068 - val_loss: 0.8274 - val_accuracy: 0.7179\n",
            "Epoch 113/150\n",
            "24/24 [==============================] - 0s 2ms/step - loss: 0.2612 - accuracy: 0.8686 - val_loss: 0.8089 - val_accuracy: 0.7521\n",
            "Epoch 114/150\n",
            "24/24 [==============================] - 0s 3ms/step - loss: 0.2532 - accuracy: 0.8644 - val_loss: 0.8106 - val_accuracy: 0.7350\n",
            "Epoch 115/150\n",
            "24/24 [==============================] - 0s 3ms/step - loss: 0.2609 - accuracy: 0.8941 - val_loss: 0.8371 - val_accuracy: 0.7436\n",
            "Epoch 116/150\n",
            "24/24 [==============================] - 0s 3ms/step - loss: 0.2247 - accuracy: 0.9025 - val_loss: 0.8163 - val_accuracy: 0.7436\n",
            "Epoch 117/150\n",
            "24/24 [==============================] - 0s 3ms/step - loss: 0.2422 - accuracy: 0.8856 - val_loss: 0.8226 - val_accuracy: 0.7436\n",
            "Epoch 118/150\n",
            "24/24 [==============================] - 0s 2ms/step - loss: 0.2348 - accuracy: 0.8771 - val_loss: 0.8508 - val_accuracy: 0.7607\n",
            "Epoch 119/150\n",
            "24/24 [==============================] - 0s 2ms/step - loss: 0.2291 - accuracy: 0.9025 - val_loss: 0.8680 - val_accuracy: 0.7521\n",
            "Epoch 120/150\n",
            "24/24 [==============================] - 0s 3ms/step - loss: 0.2272 - accuracy: 0.8898 - val_loss: 0.8926 - val_accuracy: 0.7350\n",
            "Epoch 121/150\n",
            "24/24 [==============================] - 0s 3ms/step - loss: 0.2377 - accuracy: 0.8814 - val_loss: 0.8342 - val_accuracy: 0.7521\n",
            "Epoch 122/150\n",
            "24/24 [==============================] - 0s 3ms/step - loss: 0.2265 - accuracy: 0.8856 - val_loss: 0.8425 - val_accuracy: 0.7265\n",
            "Epoch 123/150\n",
            "24/24 [==============================] - 0s 3ms/step - loss: 0.1992 - accuracy: 0.9237 - val_loss: 0.8912 - val_accuracy: 0.7179\n",
            "Epoch 124/150\n",
            "24/24 [==============================] - 0s 3ms/step - loss: 0.2169 - accuracy: 0.9322 - val_loss: 0.9114 - val_accuracy: 0.7265\n",
            "Epoch 125/150\n",
            "24/24 [==============================] - 0s 3ms/step - loss: 0.2371 - accuracy: 0.9068 - val_loss: 0.9256 - val_accuracy: 0.7436\n",
            "Epoch 126/150\n",
            "24/24 [==============================] - 0s 3ms/step - loss: 0.2228 - accuracy: 0.8814 - val_loss: 0.8856 - val_accuracy: 0.7436\n",
            "Epoch 127/150\n",
            "24/24 [==============================] - 0s 3ms/step - loss: 0.2183 - accuracy: 0.8898 - val_loss: 0.9152 - val_accuracy: 0.7436\n",
            "Epoch 128/150\n",
            "24/24 [==============================] - 0s 3ms/step - loss: 0.1972 - accuracy: 0.9322 - val_loss: 0.9602 - val_accuracy: 0.7094\n",
            "Epoch 129/150\n",
            "24/24 [==============================] - 0s 3ms/step - loss: 0.2190 - accuracy: 0.8983 - val_loss: 0.9577 - val_accuracy: 0.7094\n",
            "Epoch 130/150\n",
            "24/24 [==============================] - 0s 3ms/step - loss: 0.2659 - accuracy: 0.8898 - val_loss: 0.9112 - val_accuracy: 0.7009\n",
            "Epoch 131/150\n",
            "24/24 [==============================] - 0s 3ms/step - loss: 0.2267 - accuracy: 0.9025 - val_loss: 0.9531 - val_accuracy: 0.7179\n",
            "Epoch 132/150\n",
            "24/24 [==============================] - 0s 3ms/step - loss: 0.2279 - accuracy: 0.8898 - val_loss: 0.9719 - val_accuracy: 0.7179\n",
            "Epoch 133/150\n",
            "24/24 [==============================] - 0s 3ms/step - loss: 0.1568 - accuracy: 0.9449 - val_loss: 0.9681 - val_accuracy: 0.7009\n",
            "Epoch 134/150\n",
            "24/24 [==============================] - 0s 3ms/step - loss: 0.2403 - accuracy: 0.9025 - val_loss: 0.9888 - val_accuracy: 0.7094\n",
            "Epoch 135/150\n",
            "24/24 [==============================] - 0s 3ms/step - loss: 0.2640 - accuracy: 0.9068 - val_loss: 0.9218 - val_accuracy: 0.7179\n",
            "Epoch 136/150\n",
            "24/24 [==============================] - 0s 3ms/step - loss: 0.2352 - accuracy: 0.8941 - val_loss: 0.9438 - val_accuracy: 0.7179\n",
            "Epoch 137/150\n",
            "24/24 [==============================] - 0s 3ms/step - loss: 0.2146 - accuracy: 0.9110 - val_loss: 0.9893 - val_accuracy: 0.7350\n",
            "Epoch 138/150\n",
            "24/24 [==============================] - 0s 3ms/step - loss: 0.2130 - accuracy: 0.9110 - val_loss: 1.0419 - val_accuracy: 0.7179\n",
            "Epoch 139/150\n",
            "24/24 [==============================] - 0s 3ms/step - loss: 0.2087 - accuracy: 0.9025 - val_loss: 0.9790 - val_accuracy: 0.7265\n",
            "Epoch 140/150\n",
            "24/24 [==============================] - 0s 3ms/step - loss: 0.2099 - accuracy: 0.9195 - val_loss: 1.0107 - val_accuracy: 0.7350\n",
            "Epoch 141/150\n",
            "24/24 [==============================] - 0s 3ms/step - loss: 0.2061 - accuracy: 0.8898 - val_loss: 1.0206 - val_accuracy: 0.7179\n",
            "Epoch 142/150\n",
            "24/24 [==============================] - 0s 3ms/step - loss: 0.2162 - accuracy: 0.9153 - val_loss: 0.9508 - val_accuracy: 0.7265\n",
            "Epoch 143/150\n",
            "24/24 [==============================] - 0s 3ms/step - loss: 0.1543 - accuracy: 0.9492 - val_loss: 0.9584 - val_accuracy: 0.7265\n",
            "Epoch 144/150\n",
            "24/24 [==============================] - 0s 3ms/step - loss: 0.2093 - accuracy: 0.9153 - val_loss: 1.0579 - val_accuracy: 0.6923\n",
            "Epoch 145/150\n",
            "24/24 [==============================] - 0s 3ms/step - loss: 0.1687 - accuracy: 0.9449 - val_loss: 1.0806 - val_accuracy: 0.7009\n",
            "Epoch 146/150\n",
            "24/24 [==============================] - 0s 3ms/step - loss: 0.1717 - accuracy: 0.9195 - val_loss: 1.0939 - val_accuracy: 0.7009\n",
            "Epoch 147/150\n",
            "24/24 [==============================] - 0s 3ms/step - loss: 0.2388 - accuracy: 0.9153 - val_loss: 1.0810 - val_accuracy: 0.7350\n",
            "Epoch 148/150\n",
            "24/24 [==============================] - 0s 3ms/step - loss: 0.1900 - accuracy: 0.9280 - val_loss: 1.0965 - val_accuracy: 0.7179\n",
            "Epoch 149/150\n",
            "24/24 [==============================] - 0s 3ms/step - loss: 0.2144 - accuracy: 0.9153 - val_loss: 1.1226 - val_accuracy: 0.7350\n",
            "Epoch 150/150\n",
            "24/24 [==============================] - 0s 3ms/step - loss: 0.1997 - accuracy: 0.9280 - val_loss: 1.0761 - val_accuracy: 0.7350\n"
          ]
        }
      ]
    },
    {
      "cell_type": "code",
      "source": [
        "acc = model.evaluate(X_train, y_train_binary)\n",
        "print(\"Loss:\", acc[0], \" Accuracy:\", acc[1])"
      ],
      "metadata": {
        "colab": {
          "base_uri": "https://localhost:8080/"
        },
        "id": "XaPIy8nJkjFw",
        "outputId": "67b7ee39-e640-4831-a378-7b20f8cd5970"
      },
      "execution_count": null,
      "outputs": [
        {
          "output_type": "stream",
          "name": "stdout",
          "text": [
            "12/12 [==============================] - 0s 1ms/step - loss: 0.4266 - accuracy: 0.9037\n",
            "Loss: 0.42664870619773865  Accuracy: 0.9036827087402344\n"
          ]
        }
      ]
    },
    {
      "cell_type": "markdown",
      "source": [
        "**Son olarak eğitim başarısını görselleştiriyoruz.**"
      ],
      "metadata": {
        "id": "mqIwTlCsKIS8"
      }
    },
    {
      "cell_type": "code",
      "source": [
        "import matplotlib.pyplot as plt \n",
        "plt.figure()\n",
        "plt.title('Model Başarısı')\n",
        "plt.ylabel('Doğruluk')\n",
        "plt.xlabel('Tur Sayısı')\n",
        "plt.plot(history.history[\"accuracy\"], label=\"Başarı Sonuçları\")\n",
        "plt.plot(history.history[\"loss\"],label=\"Eğitim Loss\")\n",
        "plt.legend()\n",
        "plt.show()"
      ],
      "metadata": {
        "colab": {
          "base_uri": "https://localhost:8080/",
          "height": 295
        },
        "id": "JU0G9uUouq21",
        "outputId": "af875d59-ec1f-4e6e-e15e-1ec4fc7dfac9"
      },
      "execution_count": null,
      "outputs": [
        {
          "output_type": "display_data",
          "data": {
            "text/plain": [
              "<Figure size 432x288 with 1 Axes>"
            ],
            "image/png": "[encoded data removed]"
          },
          "metadata": {
            "needs_background": "light"
          }
        }
      ]
    }
  ]
}